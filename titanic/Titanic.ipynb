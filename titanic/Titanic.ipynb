{
  "metadata": {
    "language_info": {
      "name": "python",
      "version": "3.6.1",
      "mimetype": "text/x-python",
      "codemirror_mode": {
        "name": "ipython",
        "version": 3
      },
      "pygments_lexer": "ipython3",
      "nbconvert_exporter": "python",
      "file_extension": ".py"
    },
    "kernelspec": {
      "display_name": "Python 3",
      "language": "python",
      "name": "python3"
    }
  },
  "nbformat": 4,
  "nbformat_minor": 0,
  "cells": [
    {
      "metadata": {
        "collapsed": false,
        "_cell_guid": "25331e19-bd7d-45a7-ba52-53cd826f1496",
        "_uuid": "4561ef39050e47d74139663b13ce2380f2b914f2",
        "_execution_state": "idle"
      },
      "execution_count": null,
      "outputs": [],
      "source": "**1. Import necessary packages and load csv files**",
      "cell_type": "markdown"
    },
    {
      "metadata": {
        "_cell_guid": "e69b46d2-db8f-4443-8d1a-c180d8f59e95",
        "_uuid": "2df6d1f46c2d9bcee424e0a94b966b1aaf3a7321",
        "_execution_state": "idle",
        "trusted": false
      },
      "execution_count": 1,
      "outputs": [],
      "source": "import numpy as np # linear algebra\nimport pandas as pd # data processing, CSV file I/O (e.g. pd.read_csv)\nimport seaborn as sns\nimport matplotlib.pyplot as plt\n%matplotlib inline",
      "cell_type": "code"
    },
    {
      "metadata": {
        "collapsed": false,
        "_cell_guid": "7e02aace-d206-416b-bdf3-555fca1f0fa0",
        "_uuid": "77a1b0b3092660f280c7836574aa559727c0d4e3",
        "_execution_state": "idle",
        "trusted": false
      },
      "execution_count": 2,
      "outputs": [],
      "source": "train_df = pd.read_csv(\"../input/train.csv\")\ntest_df = pd.read_csv(\"../input/test.csv\")",
      "cell_type": "code"
    },
    {
      "metadata": {
        "collapsed": false,
        "_cell_guid": "0fd77b4f-f8fa-4285-a66a-d7f551228066",
        "_uuid": "7ccbfebe7056fb4fbd878fc675d7ff41b10024bb",
        "_execution_state": "idle"
      },
      "execution_count": null,
      "outputs": [],
      "source": "**2. Data pre-processing**",
      "cell_type": "markdown"
    },
    {
      "metadata": {
        "collapsed": false,
        "_cell_guid": "9d3c1446-de99-4b0e-abfc-03c06530fcd8",
        "_uuid": "f7391f8cf576a47b9ba8e309b7b00a7222706650",
        "_execution_state": "idle",
        "trusted": false
      },
      "execution_count": 3,
      "outputs": [
        {
          "output_type": "stream",
          "name": "stdout",
          "text": "PassengerId      0\nSurvived         0\nPclass           0\nName             0\nSex              0\nAge            177\nSibSp            0\nParch            0\nTicket           0\nFare             0\nCabin          687\nEmbarked         2\ndtype: int64\n----------------------------------------------------\nPassengerId      0\nPclass           0\nName             0\nSex              0\nAge             86\nSibSp            0\nParch            0\nTicket           0\nFare             1\nCabin          327\nEmbarked         0\ndtype: int64\n"
        }
      ],
      "source": "#missing values\nprint(train_df.isnull().sum())\nprint(\"----------------------------------------------------\")\nprint(test_df.isnull().sum())",
      "cell_type": "code"
    },
    {
      "metadata": {
        "collapsed": false,
        "_cell_guid": "4d14a4d3-0ecf-4b7b-b952-1f9800a92c9c",
        "_uuid": "c3cd107388ebf9ea319eeb81086dfce80929c728",
        "_execution_state": "idle",
        "trusted": false
      },
      "execution_count": 4,
      "outputs": [
        {
          "output_type": "stream",
          "name": "stdout",
          "text": "S    644\nC    168\nQ     77\nName: Embarked, dtype: int64\n"
        },
        {
          "output_type": "execute_result",
          "data": {
            "text/plain": "     PassengerId  Survived  Pclass                                       Name  \\\n61            62         1       1                        Icard, Miss. Amelie   \n829          830         1       1  Stone, Mrs. George Nelson (Martha Evelyn)   \n\n        Sex   Age  SibSp  Parch  Ticket  Fare Cabin Embarked  \n61   female  38.0      0      0  113572  80.0   B28      NaN  \n829  female  62.0      0      0  113572  80.0   B28      NaN  ",
            "text/html": "<div>\n<style>\n    .dataframe thead tr:only-child th {\n        text-align: right;\n    }\n\n    .dataframe thead th {\n        text-align: left;\n    }\n\n    .dataframe tbody tr th {\n        vertical-align: top;\n    }\n</style>\n<table border=\"1\" class=\"dataframe\">\n  <thead>\n    <tr style=\"text-align: right;\">\n      <th></th>\n      <th>PassengerId</th>\n      <th>Survived</th>\n      <th>Pclass</th>\n      <th>Name</th>\n      <th>Sex</th>\n      <th>Age</th>\n      <th>SibSp</th>\n      <th>Parch</th>\n      <th>Ticket</th>\n      <th>Fare</th>\n      <th>Cabin</th>\n      <th>Embarked</th>\n    </tr>\n  </thead>\n  <tbody>\n    <tr>\n      <th>61</th>\n      <td>62</td>\n      <td>1</td>\n      <td>1</td>\n      <td>Icard, Miss. Amelie</td>\n      <td>female</td>\n      <td>38.0</td>\n      <td>0</td>\n      <td>0</td>\n      <td>113572</td>\n      <td>80.0</td>\n      <td>B28</td>\n      <td>NaN</td>\n    </tr>\n    <tr>\n      <th>829</th>\n      <td>830</td>\n      <td>1</td>\n      <td>1</td>\n      <td>Stone, Mrs. George Nelson (Martha Evelyn)</td>\n      <td>female</td>\n      <td>62.0</td>\n      <td>0</td>\n      <td>0</td>\n      <td>113572</td>\n      <td>80.0</td>\n      <td>B28</td>\n      <td>NaN</td>\n    </tr>\n  </tbody>\n</table>\n</div>"
          },
          "metadata": {},
          "execution_count": 4
        }
      ],
      "source": "#fill item \"Embarked\" in train dataframe\nprint(train_df.Embarked.value_counts())\ntrain_df[train_df['Embarked'].isnull()]",
      "cell_type": "code"
    },
    {
      "metadata": {
        "collapsed": false,
        "_cell_guid": "9ea37746-b35d-45a4-a516-aea091990e29",
        "_uuid": "0c0a182602ac8be20ea053184bf4b99fed827cdc",
        "_execution_state": "idle"
      },
      "execution_count": null,
      "outputs": [],
      "source": "I cannot simply fillna with mode 'S'. I need a more creditable proof.",
      "cell_type": "markdown"
    },
    {
      "metadata": {
        "collapsed": false,
        "_cell_guid": "3cd2ead9-57fe-4e16-9d76-26db8f599aa3",
        "_uuid": "fec6d861add9df99ae1d5b605437717392d70f1a",
        "_execution_state": "idle",
        "trusted": false
      },
      "execution_count": 5,
      "outputs": [
        {
          "output_type": "execute_result",
          "data": {
            "text/plain": "<matplotlib.axes._subplots.AxesSubplot at 0x7f73a7250cf8>"
          },
          "metadata": {},
          "execution_count": 5
        },
        {
          "output_type": "display_data",
          "data": {
            "text/plain": "<matplotlib.figure.Figure at 0x7f73a7250b00>",
            "image/png": "[encoded data removed]"
          },
          "metadata": {},
          "transient": {}
        }
      ],
      "source": "sns.boxplot(x=\"Embarked\", y=\"Fare\", hue=\"Pclass\", data=train_df)",
      "cell_type": "code"
    },
    {
      "metadata": {
        "collapsed": false,
        "_cell_guid": "a7acf79b-32cf-4724-a342-8b783289e1e7",
        "_uuid": "787eebab4b3d0a8fe7b85ed06d1e957093b6e70b",
        "_execution_state": "idle"
      },
      "execution_count": null,
      "outputs": [],
      "source": "I know that these two guys paid 80.0 and they were in Pclass 1.  And from the box-plot, the blue box in group 'C' has a median around 80. So I'll fillna with 'C' instead of the mode 'S'.",
      "cell_type": "markdown"
    },
    {
      "metadata": {
        "collapsed": false,
        "_cell_guid": "988b18b5-2109-4199-af77-7b09b8fe81c3",
        "_uuid": "80a0a4d2c5181a4b4a50e4b0d28985423d21cf4e",
        "_execution_state": "idle",
        "trusted": false
      },
      "execution_count": 6,
      "outputs": [],
      "source": "#fillna\ntrain_df['Embarked'] = train_df['Embarked'].fillna('C')",
      "cell_type": "code"
    },
    {
      "metadata": {
        "collapsed": false,
        "_cell_guid": "4fbf4d7f-0aad-49f4-b53b-ffdddc5a4e5e",
        "_uuid": "c790bb75b37d9ba5e95d1c41faa5776b00c38abd",
        "_execution_state": "idle",
        "trusted": false
      },
      "execution_count": 7,
      "outputs": [
        {
          "output_type": "stream",
          "name": "stdout",
          "text": "count    417.000000\nmean      35.627188\nstd       55.907576\nmin        0.000000\n25%        7.895800\n50%       14.454200\n75%       31.500000\nmax      512.329200\nName: Fare, dtype: float64\n"
        },
        {
          "output_type": "execute_result",
          "data": {
            "text/plain": "     PassengerId  Pclass                Name   Sex   Age  SibSp  Parch Ticket  \\\n152         1044       3  Storey, Mr. Thomas  male  60.5      0      0   3701   \n\n     Fare Cabin Embarked  \n152   NaN   NaN        S  ",
            "text/html": "<div>\n<style>\n    .dataframe thead tr:only-child th {\n        text-align: right;\n    }\n\n    .dataframe thead th {\n        text-align: left;\n    }\n\n    .dataframe tbody tr th {\n        vertical-align: top;\n    }\n</style>\n<table border=\"1\" class=\"dataframe\">\n  <thead>\n    <tr style=\"text-align: right;\">\n      <th></th>\n      <th>PassengerId</th>\n      <th>Pclass</th>\n      <th>Name</th>\n      <th>Sex</th>\n      <th>Age</th>\n      <th>SibSp</th>\n      <th>Parch</th>\n      <th>Ticket</th>\n      <th>Fare</th>\n      <th>Cabin</th>\n      <th>Embarked</th>\n    </tr>\n  </thead>\n  <tbody>\n    <tr>\n      <th>152</th>\n      <td>1044</td>\n      <td>3</td>\n      <td>Storey, Mr. Thomas</td>\n      <td>male</td>\n      <td>60.5</td>\n      <td>0</td>\n      <td>0</td>\n      <td>3701</td>\n      <td>NaN</td>\n      <td>NaN</td>\n      <td>S</td>\n    </tr>\n  </tbody>\n</table>\n</div>"
          },
          "metadata": {},
          "execution_count": 7
        }
      ],
      "source": "#fill item 'Fare' in test dataframe\nprint(test_df['Fare'].describe())\ntest_df[test_df['Fare'].isnull()]",
      "cell_type": "code"
    },
    {
      "metadata": {
        "collapsed": false,
        "_cell_guid": "3db2ef49-c26f-4cad-8e21-69e403647510",
        "_uuid": "36c6fab5f41f87817fb8abc5782fefd295827bf8",
        "_execution_state": "idle"
      },
      "execution_count": null,
      "outputs": [],
      "source": "Since item 'Fare' is a numeric variable, so I have to fillna with median or mean.",
      "cell_type": "markdown"
    },
    {
      "metadata": {
        "collapsed": false,
        "_cell_guid": "d64035df-5bb3-4383-b436-7370a8afcbee",
        "_uuid": "bbbe2f44489aae4fa02d86dfc3180f991648be0d",
        "_execution_state": "idle",
        "trusted": false
      },
      "execution_count": 8,
      "outputs": [
        {
          "output_type": "stream",
          "name": "stdout",
          "text": "count    141.000000\nmean      13.913030\nstd       12.744667\nmin        3.170800\n25%        7.854200\n50%        8.050000\n75%       14.500000\nmax       69.550000\nName: Fare, dtype: float64\nMean:13\nMedian:8\n"
        }
      ],
      "source": "fare_mean = test_df[(test_df['Pclass'] == 3) & (test_df['Embarked'] == 'S')]['Fare'].mean()\nfare_median = test_df[(test_df['Pclass'] == 3) & (test_df['Embarked'] == 'S')]['Fare'].median()\nprint(test_df[(test_df['Pclass'] == 3) & (test_df['Embarked'] == 'S')]['Fare'].describe())\nprint('Mean:%d'%fare_mean)\nprint('Median:%d'%fare_median)",
      "cell_type": "code"
    },
    {
      "metadata": {
        "collapsed": false,
        "_cell_guid": "b8a0d6d1-7a91-4457-a07d-17c0047f23af",
        "_uuid": "d73b82159ecbf4be4a8250705a693ac3dde55a2d",
        "_execution_state": "idle"
      },
      "execution_count": null,
      "outputs": [],
      "source": "From the describe, I decide to choose the median. Because the 50%-quantile is 8.05 and the 75%-quantile is 14.5, but the maximum is 69.55. That means some huge numbers affect the mean. So the median is more apt.",
      "cell_type": "markdown"
    },
    {
      "metadata": {
        "collapsed": false,
        "_cell_guid": "fdefc151-a069-4ba9-8ae0-eed4852aea5a",
        "_uuid": "1e511dc3f144cb2c8f347a1b62bf27d3b1f2aa31",
        "_execution_state": "idle",
        "trusted": false
      },
      "execution_count": 9,
      "outputs": [],
      "source": "#fillna with median\ntest_df['Fare'] = test_df['Fare'].fillna(fare_median)",
      "cell_type": "code"
    },
    {
      "metadata": {
        "collapsed": false,
        "_cell_guid": "4eec0414-bd9a-4f4f-b03f-2621244f3c3e",
        "_uuid": "4140ab7c702547fac6968d7a310acffa675c6bd1",
        "_execution_state": "idle"
      },
      "execution_count": null,
      "outputs": [],
      "source": "And I find that there are too many missing values in  item 'Cabin' which makes it become a useless feature. I haven't got a good way to fill it so I will give up this item in the future prediction.",
      "cell_type": "markdown"
    },
    {
      "metadata": {
        "collapsed": false,
        "_cell_guid": "468c05ee-8c7a-4ed6-9422-163a482407b1",
        "_uuid": "77018caae32a33a99ad1ceb390cb92c9b439accd",
        "_execution_state": "idle",
        "trusted": false
      },
      "execution_count": 10,
      "outputs": [
        {
          "output_type": "stream",
          "name": "stdout",
          "text": "Mr              517\nMiss            182\nMrs             125\nMaster           40\nDr                7\nRev               6\nMajor             2\nCol               2\nMlle              2\nJonkheer          1\nthe Countess      1\nDon               1\nLady              1\nMme               1\nCapt              1\nSir               1\nMs                1\nName: Title, dtype: int64\n--------------------------------------------------\nMr        240\nMiss       78\nMrs        72\nMaster     21\nRev         2\nCol         2\nDona        1\nMs          1\nDr          1\nName: Title, dtype: int64\n"
        }
      ],
      "source": "import re\ndef get_title(name):\n    pattern=re.compile('^.*, (.*?)\\..*$',re.S)\n    pear=re.findall(pattern,name)\n    return pear[0]\n\ntrain_df['Title'] = train_df['Name'].apply(get_title)\ntest_df['Title'] = test_df['Name'].apply(get_title)\n\nprint(train_df.Title.value_counts())\nprint(\"--------------------------------------------------\")\nprint(test_df.Title.value_counts())",
      "cell_type": "code"
    },
    {
      "metadata": {
        "collapsed": false,
        "_cell_guid": "1fbd070c-30b3-41c3-ac7f-2d3ef3ee7c97",
        "_uuid": "32761e7ecabb51b26d2e9bad3f7bee8c72365226",
        "_execution_state": "idle"
      },
      "execution_count": null,
      "outputs": [],
      "source": "Here is the value counts, it would be wise to divide them into 5 groups.",
      "cell_type": "markdown"
    },
    {
      "metadata": {
        "collapsed": false,
        "_cell_guid": "84a13888-b149-4899-9a7a-89ff2f94c3f4",
        "_uuid": "45db885293d00955db1c26dc96113d830298b961",
        "_execution_state": "idle",
        "trusted": false
      },
      "execution_count": 11,
      "outputs": [],
      "source": "def group_title(title):\n    \n    group_men=['Mr','Don','Sir','Master']# return 1\n    group_younger_women=['Mlle','Miss','Ms']# return 2\n    group_elder_women=['Lady','Mrs','Mme','Dona'] # return 3\n    group_army=['Major','Col','Capt']# return 4\n    # else return 5 \n    \n    if title in group_men:\n        return 1\n    elif title in group_younger_women:\n        return 2\n    elif title in group_elder_women:\n        return 3\n    elif title in group_army:\n        return 4\n    else:\n        return 5\n    \ntrain_df['TitGroup'] = train_df['Title'].apply(group_title)\ntest_df['TitGroup'] = test_df['Title'].apply(group_title)",
      "cell_type": "code"
    },
    {
      "metadata": {
        "collapsed": false,
        "_cell_guid": "4d9212e9-236b-47d9-8370-d6b628dd6596",
        "_uuid": "e69d22a7fd5ca19615ac36e3820bc95098108300",
        "_execution_state": "idle"
      },
      "execution_count": null,
      "outputs": [],
      "source": "Thanks to  [Titanic best working Classifier](https://www.kaggle.com/sinakhorami/titanic-best-working-classifier) by Sina.  I have a good way to fillna with age.",
      "cell_type": "markdown"
    },
    {
      "metadata": {
        "collapsed": false,
        "_cell_guid": "1a9be7a9-e4fa-47d8-8529-f183b660120f",
        "_uuid": "ce4763c8ed0dac9d4e0f738458a81d8743034efa",
        "_execution_state": "idle",
        "trusted": false
      },
      "execution_count": 12,
      "outputs": [
        {
          "output_type": "stream",
          "name": "stderr",
          "text": "/opt/conda/lib/python3.6/site-packages/ipykernel_launcher.py:9: SettingWithCopyWarning: \nA value is trying to be set on a copy of a slice from a DataFrame\n\nSee the caveats in the documentation: http://pandas.pydata.org/pandas-docs/stable/indexing.html#indexing-view-versus-copy\n  if __name__ == '__main__':\n"
        }
      ],
      "source": "datasets = [train_df,test_df]\n\nfor dataset in datasets:\n    age_avg = dataset['Age'].mean()\n    age_std = dataset['Age'].std()\n    age_null_count = dataset['Age'].isnull().sum()\n    \n    age_null_random_list = np.random.randint(age_avg - age_std, age_avg + age_std, size=age_null_count)\n    dataset['Age'][np.isnan(dataset['Age'])] = age_null_random_list\n    dataset['Age'] = dataset['Age'].astype(int)\n    \n    dataset['Age'] = pd.cut(dataset['Age'],5,labels=[i for i in range(1,6)])",
      "cell_type": "code"
    },
    {
      "metadata": {
        "collapsed": false,
        "_cell_guid": "1568c3c2-e5d1-4767-96c8-790e94981bc6",
        "_uuid": "8c82489dd619e73ec7340eae096d8a23e11c5ca2",
        "_execution_state": "idle"
      },
      "execution_count": null,
      "outputs": [],
      "source": "After filling missing values, I have to select features and do standardization.",
      "cell_type": "markdown"
    },
    {
      "metadata": {
        "collapsed": false,
        "_cell_guid": "8c6c4880-d1ad-4534-90aa-dfc90e2911a9",
        "_uuid": "131ffbddc91869f649f9c9ef6a19a2fae54b8bf7",
        "_execution_state": "idle",
        "trusted": false
      },
      "execution_count": 13,
      "outputs": [],
      "source": "def class_gender(sex):\n    if sex=='male':\n        return 1\n    else:\n        return 2\n    \ndef class_embarked(emb):\n    if emb=='S':\n        return 1\n    if emb=='C':\n        return 2\n    else:\n        return 3\n\nfor dataset in datasets:\n    #create new column family\n    dataset['Family'] = dataset['SibSp']+dataset['Parch']\n    #standardization z-score\n    dataset['StdFare'] = dataset['Fare'].apply(lambda x:(x-dataset['Fare'].mean())/dataset['Fare'].std())\n    #label\n    dataset['Sex'] = dataset['Sex'].map(class_gender)\n    dataset['Embarked'] = dataset['Embarked'].map(class_embarked)    \n    \n    \n    ",
      "cell_type": "code"
    },
    {
      "metadata": {
        "collapsed": false,
        "_cell_guid": "02763eaf-2e20-46b8-bcd2-9b50ade0b337",
        "_uuid": "7deb2c7888d091b4e1d33408006442193cd5b211",
        "_execution_state": "idle",
        "trusted": false
      },
      "execution_count": 14,
      "outputs": [
        {
          "output_type": "execute_result",
          "data": {
            "text/plain": "   PassengerId  Survived  Pclass  \\\n0            1         0       3   \n1            2         1       1   \n2            3         1       3   \n3            4         1       1   \n4            5         0       3   \n\n                                                Name  Sex Age  SibSp  Parch  \\\n0                            Braund, Mr. Owen Harris    1   2      1      0   \n1  Cumings, Mrs. John Bradley (Florence Briggs Th...    2   3      1      0   \n2                             Heikkinen, Miss. Laina    2   2      0      0   \n3       Futrelle, Mrs. Jacques Heath (Lily May Peel)    2   3      1      0   \n4                           Allen, Mr. William Henry    1   3      0      0   \n\n             Ticket     Fare Cabin  Embarked Title  TitGroup  Family   StdFare  \n0         A/5 21171   7.2500   NaN         1    Mr         1       1 -0.502163  \n1          PC 17599  71.2833   C85         2   Mrs         3       1  0.786404  \n2  STON/O2. 3101282   7.9250   NaN         1  Miss         2       0 -0.488580  \n3            113803  53.1000  C123         1   Mrs         3       1  0.420494  \n4            373450   8.0500   NaN         1    Mr         1       0 -0.486064  ",
            "text/html": "<div>\n<style>\n    .dataframe thead tr:only-child th {\n        text-align: right;\n    }\n\n    .dataframe thead th {\n        text-align: left;\n    }\n\n    .dataframe tbody tr th {\n        vertical-align: top;\n    }\n</style>\n<table border=\"1\" class=\"dataframe\">\n  <thead>\n    <tr style=\"text-align: right;\">\n      <th></th>\n      <th>PassengerId</th>\n      <th>Survived</th>\n      <th>Pclass</th>\n      <th>Name</th>\n      <th>Sex</th>\n      <th>Age</th>\n      <th>SibSp</th>\n      <th>Parch</th>\n      <th>Ticket</th>\n      <th>Fare</th>\n      <th>Cabin</th>\n      <th>Embarked</th>\n      <th>Title</th>\n      <th>TitGroup</th>\n      <th>Family</th>\n      <th>StdFare</th>\n    </tr>\n  </thead>\n  <tbody>\n    <tr>\n      <th>0</th>\n      <td>1</td>\n      <td>0</td>\n      <td>3</td>\n      <td>Braund, Mr. Owen Harris</td>\n      <td>1</td>\n      <td>2</td>\n      <td>1</td>\n      <td>0</td>\n      <td>A/5 21171</td>\n      <td>7.2500</td>\n      <td>NaN</td>\n      <td>1</td>\n      <td>Mr</td>\n      <td>1</td>\n      <td>1</td>\n      <td>-0.502163</td>\n    </tr>\n    <tr>\n      <th>1</th>\n      <td>2</td>\n      <td>1</td>\n      <td>1</td>\n      <td>Cumings, Mrs. John Bradley (Florence Briggs Th...</td>\n      <td>2</td>\n      <td>3</td>\n      <td>1</td>\n      <td>0</td>\n      <td>PC 17599</td>\n      <td>71.2833</td>\n      <td>C85</td>\n      <td>2</td>\n      <td>Mrs</td>\n      <td>3</td>\n      <td>1</td>\n      <td>0.786404</td>\n    </tr>\n    <tr>\n      <th>2</th>\n      <td>3</td>\n      <td>1</td>\n      <td>3</td>\n      <td>Heikkinen, Miss. Laina</td>\n      <td>2</td>\n      <td>2</td>\n      <td>0</td>\n      <td>0</td>\n      <td>STON/O2. 3101282</td>\n      <td>7.9250</td>\n      <td>NaN</td>\n      <td>1</td>\n      <td>Miss</td>\n      <td>2</td>\n      <td>0</td>\n      <td>-0.488580</td>\n    </tr>\n    <tr>\n      <th>3</th>\n      <td>4</td>\n      <td>1</td>\n      <td>1</td>\n      <td>Futrelle, Mrs. Jacques Heath (Lily May Peel)</td>\n      <td>2</td>\n      <td>3</td>\n      <td>1</td>\n      <td>0</td>\n      <td>113803</td>\n      <td>53.1000</td>\n      <td>C123</td>\n      <td>1</td>\n      <td>Mrs</td>\n      <td>3</td>\n      <td>1</td>\n      <td>0.420494</td>\n    </tr>\n    <tr>\n      <th>4</th>\n      <td>5</td>\n      <td>0</td>\n      <td>3</td>\n      <td>Allen, Mr. William Henry</td>\n      <td>1</td>\n      <td>3</td>\n      <td>0</td>\n      <td>0</td>\n      <td>373450</td>\n      <td>8.0500</td>\n      <td>NaN</td>\n      <td>1</td>\n      <td>Mr</td>\n      <td>1</td>\n      <td>0</td>\n      <td>-0.486064</td>\n    </tr>\n  </tbody>\n</table>\n</div>"
          },
          "metadata": {},
          "execution_count": 14
        }
      ],
      "source": "train_df.head()",
      "cell_type": "code"
    },
    {
      "metadata": {
        "collapsed": false,
        "_cell_guid": "ffdc5292-2084-42de-b9f4-e0a9b253cb85",
        "_uuid": "77814e49fad39186ba56aa8f7f0e3c136218ac07",
        "_execution_state": "idle",
        "trusted": false
      },
      "execution_count": 15,
      "outputs": [],
      "source": "numeric_feature = ['Age','Family','StdFare']\ndef make_dataset(dataset):\n    dummy_df = pd.get_dummies(dataset['Pclass'],prefix='Pclass')\n    for item in ['Sex','Embarked','TitGroup']:\n        new_df = pd.get_dummies(dataset[item],prefix=item)\n        dummy_df = pd.concat([dummy_df,new_df],axis = 1)\n        \n    return pd.concat([dataset[numeric_feature],dummy_df],axis = 1)\n    \nX_train = make_dataset(train_df)\nY_train = train_df['Survived']\nX_test = make_dataset(test_df)",
      "cell_type": "code"
    },
    {
      "metadata": {
        "collapsed": false,
        "_cell_guid": "76d81c60-1abc-4b5a-8c52-4e28db55458d",
        "_uuid": "11c0d61281bff6dbed4a94ef8eb353ab5e50445b",
        "_execution_state": "idle",
        "trusted": false
      },
      "execution_count": 16,
      "outputs": [
        {
          "output_type": "stream",
          "name": "stderr",
          "text": "/opt/conda/lib/python3.6/site-packages/sklearn/cross_validation.py:41: DeprecationWarning: This module was deprecated in version 0.18 in favor of the model_selection module into which all the refactored classes and functions are moved. Also note that the interface of the new CV iterators are different from that of this module. This module will be removed in 0.20.\n  \"This module will be removed in 0.20.\", DeprecationWarning)\n"
        }
      ],
      "source": "from sklearn.cross_validation import train_test_split\n#cross validation\nXtrain,Xtest,Ytrain,Ytest = train_test_split(X_train,Y_train,test_size=0.3,random_state=0)",
      "cell_type": "code"
    },
    {
      "metadata": {
        "collapsed": false,
        "_cell_guid": "13060597-757a-4252-a336-e81d7fb9cbde",
        "_uuid": "8cdd0ec580b33fa55cfe207ac49601938db51f66",
        "_execution_state": "idle",
        "trusted": false
      },
      "execution_count": 17,
      "outputs": [],
      "source": "#Logistic Regression\ndef lr_classify(Xtrain,Xtest,Ytrain,Ytest):\n    from sklearn.linear_model import LogisticRegression\n    \n    clf = LogisticRegression(C=1e5)\n    clf.fit(Xtrain,Ytrain)\n    score = clf.score(Xtest,Ytest)\n    print(\"LinearRegression score: {0}\".format(score))",
      "cell_type": "code"
    },
    {
      "metadata": {
        "collapsed": false,
        "_cell_guid": "16a65d82-040f-449d-b256-4484406ce6b8",
        "_uuid": "ee9efaa8243b532936ed165a0dcbc4c0d3f420cf",
        "_execution_state": "idle",
        "trusted": false
      },
      "execution_count": 18,
      "outputs": [],
      "source": "#knn\ndef knn_classify(Xtrain,Xtest,Ytrain,Ytest):\n    from sklearn.neighbors import KNeighborsClassifier\n    \n    clf = KNeighborsClassifier(n_neighbors=10)\n    clf.fit(Xtrain,Ytrain)\n    score = clf.score(Xtest,Ytest)\n    print(\"Knn score: {0}\".format(score))",
      "cell_type": "code"
    },
    {
      "metadata": {
        "collapsed": false,
        "_cell_guid": "a60c34c4-8f38-41cc-a8ad-2d7d77c86db9",
        "_uuid": "7b1fc110b2afe52b2aaf5125c8aefdecdd1bb7be",
        "_execution_state": "idle",
        "trusted": false
      },
      "execution_count": 19,
      "outputs": [],
      "source": "#Random Forest\ndef rf_classify(Xtrain,Xtest,Ytrain,Ytest):\n    from sklearn.ensemble import RandomForestClassifier\n    \n    clf = RandomForestClassifier(n_estimators=10)\n    clf.fit(Xtrain,Ytrain)\n    score = clf.score(Xtest,Ytest)\n    print(\"RandomForest score: {0}\".format(score))",
      "cell_type": "code"
    },
    {
      "metadata": {
        "collapsed": false,
        "_cell_guid": "c97ce10f-d491-43e1-890a-ef7c920fda86",
        "_uuid": "090d1d67b9de4f8fcb51b0619aa8b3ebf2f4c5a2",
        "_execution_state": "idle",
        "trusted": false
      },
      "execution_count": 20,
      "outputs": [],
      "source": "#NaiveBayes GaussianNB\ndef nb_classify(Xtrain,Xtest,Ytrain,Ytest):\n    from sklearn.naive_bayes import GaussianNB\n    \n    clf = GaussianNB()\n    clf.fit(Xtrain,Ytrain)\n    score = clf.score(Xtest,Ytest)\n    print(\"GaussianNB score: {0}\".format(score))",
      "cell_type": "code"
    },
    {
      "metadata": {
        "collapsed": false,
        "_cell_guid": "bae0bfe8-a0ca-4c00-a290-a699df8388a6",
        "_uuid": "3698eceffeca41bc0f5927467aa3c1de08227d84",
        "_execution_state": "idle",
        "trusted": false
      },
      "execution_count": 21,
      "outputs": [],
      "source": "#SVM\ndef svm_classify(Xtrain,Xtest,Ytrain,Ytest):\n    from sklearn import svm\n    \n    clf = svm.SVC()\n    clf.fit(Xtrain,Ytrain)\n    score = clf.score(Xtest,Ytest)\n    print(\"SVM score: {0}\".format(score))",
      "cell_type": "code"
    },
    {
      "metadata": {
        "collapsed": false,
        "_cell_guid": "7b5208fd-d06e-409f-bd6d-b2dac3cf9b25",
        "_uuid": "d52344419228213a59bc198bc5f8346e9d21bf9a",
        "_execution_state": "idle",
        "trusted": false
      },
      "execution_count": 22,
      "outputs": [],
      "source": "#xgboost\ndef xgb_classify(Xtrain,Xtest,Ytrain,Ytest):\n    import xgboost as xgb\n    \n    clf = xgb.XGBClassifier()\n    clf.fit(Xtrain,Ytrain)\n    score = clf.score(Xtest,Ytest)\n    print(\"Xgboost score: {0}\".format(score))",
      "cell_type": "code"
    },
    {
      "metadata": {
        "collapsed": false,
        "_cell_guid": "97c557ce-e4e8-4b8d-b1eb-ad629c6091bc",
        "_uuid": "762da62806c8d00ca991caae69c67bc3a685db4e",
        "_execution_state": "idle",
        "trusted": false
      },
      "execution_count": 23,
      "outputs": [],
      "source": "#Voting class\ndef voting_classify(Xtrain,Xtest,Ytrain,Ytest):\n    from sklearn.ensemble import GradientBoostingClassifier,VotingClassifier,RandomForestClassifier\n    from sklearn.linear_model import LogisticRegression\n    from sklearn.naive_bayes import GaussianNB\n    \n    clf1 = GradientBoostingClassifier(n_estimators=200)\n    clf2 = RandomForestClassifier(random_state=0,n_estimators=50)\n    clf3 = LogisticRegression(random_state=1)\n    clf4 = GaussianNB()\n    \n    clf = VotingClassifier(estimators=[('gbdt',clf1),('rf',clf2),('lr',clf3),('nb',clf4)],voting='soft')\n    clf.fit(Xtrain,Ytrain)\n    score = clf.score(Xtest,Ytest)\n    print(\"Voting score: {0}\".format(score))",
      "cell_type": "code"
    },
    {
      "metadata": {
        "collapsed": false,
        "_cell_guid": "5b21392d-3847-41f6-8db8-459b40750748",
        "_uuid": "f8df176b6b008859f953da39541a5b73489f573c",
        "_execution_state": "idle",
        "trusted": false
      },
      "execution_count": 24,
      "outputs": [
        {
          "output_type": "stream",
          "name": "stdout",
          "text": "LinearRegression score: 0.8208955223880597\nKnn score: 0.8059701492537313\nRandomForest score: 0.8283582089552238\nGaussianNB score: 0.7798507462686567\nSVM score: 0.8059701492537313\n"
        },
        {
          "output_type": "stream",
          "name": "stdout",
          "text": "Voting score: 0.8097014925373134\n"
        }
      ],
      "source": "lr_classify(Xtrain,Xtest,Ytrain,Ytest)\nknn_classify(Xtrain,Xtest,Ytrain,Ytest)\nrf_classify(Xtrain,Xtest,Ytrain,Ytest)\nnb_classify(Xtrain,Xtest,Ytrain,Ytest)\nsvm_classify(Xtrain,Xtest,Ytrain,Ytest)\nvoting_classify(Xtrain,Xtest,Ytrain,Ytest)",
      "cell_type": "code"
    },
    {
      "metadata": {
        "collapsed": false,
        "_cell_guid": "bd95a7e5-1925-43da-86b5-e46c3b372eba",
        "_uuid": "57d2c92380fc540b95ed1df91bac1cc382e0728f",
        "_execution_state": "idle",
        "trusted": false
      },
      "execution_count": 25,
      "outputs": [],
      "source": "from sklearn.ensemble import GradientBoostingClassifier,VotingClassifier,RandomForestClassifier\nfrom sklearn.linear_model import LogisticRegression\nfrom sklearn.naive_bayes import GaussianNB\n    \nclf1 = GradientBoostingClassifier(n_estimators=200)\nclf2 = RandomForestClassifier(random_state=0,n_estimators=50)\nclf3 = LogisticRegression(random_state=1)\nclf4 = GaussianNB()\n    \nclf = VotingClassifier(estimators=[('gbdt',clf1),('rf',clf2),('lr',clf3),('nb',clf4)],voting='soft')\nclf.fit(X_train,Y_train)\npredictions = clf.predict(X_test)",
      "cell_type": "code"
    },
    {
      "metadata": {
        "collapsed": false,
        "_uuid": "06821437ecccff30136393617cfcbdb7eb1bee5f",
        "_execution_state": "idle"
      },
      "source": "result = pd.DataFrame({'PassengerId':test_df['PassengerId'].as_matrix(),'Survived':predictions})\nresult.to_csv('svc.csv',index=False)",
      "execution_count": 28,
      "cell_type": "code",
      "outputs": []
    },
    {
      "metadata": {
        "collapsed": false,
        "_uuid": "d88513df56b1df8de968be66fc004ae0b26d39fc",
        "_execution_state": "idle"
      },
      "source": "df = pd.read_csv('svc.csv')\ndf.head()",
      "execution_count": 31,
      "cell_type": "code",
      "outputs": [
        {
          "output_type": "execute_result",
          "data": {
            "text/plain": "   PassengerId  Survived\n0          892         0\n1          893         1\n2          894         0\n3          895         0\n4          896         1",
            "text/html": "<div>\n<style>\n    .dataframe thead tr:only-child th {\n        text-align: right;\n    }\n\n    .dataframe thead th {\n        text-align: left;\n    }\n\n    .dataframe tbody tr th {\n        vertical-align: top;\n    }\n</style>\n<table border=\"1\" class=\"dataframe\">\n  <thead>\n    <tr style=\"text-align: right;\">\n      <th></th>\n      <th>PassengerId</th>\n      <th>Survived</th>\n    </tr>\n  </thead>\n  <tbody>\n    <tr>\n      <th>0</th>\n      <td>892</td>\n      <td>0</td>\n    </tr>\n    <tr>\n      <th>1</th>\n      <td>893</td>\n      <td>1</td>\n    </tr>\n    <tr>\n      <th>2</th>\n      <td>894</td>\n      <td>0</td>\n    </tr>\n    <tr>\n      <th>3</th>\n      <td>895</td>\n      <td>0</td>\n    </tr>\n    <tr>\n      <th>4</th>\n      <td>896</td>\n      <td>1</td>\n    </tr>\n  </tbody>\n</table>\n</div>"
          },
          "metadata": {},
          "execution_count": 31
        }
      ]
    }
  ]
}